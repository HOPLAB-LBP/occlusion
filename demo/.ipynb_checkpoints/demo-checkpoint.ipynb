{
 "cells": [
  {
   "cell_type": "markdown",
   "metadata": {},
   "source": [
    "## <a id='toc1_1_'></a>[Occlude images](#toc0_)\n",
    "\n",
    "This notebook illustrates how to use the functions contained in this repository. "
   ]
  },
  {
   "cell_type": "code",
   "execution_count": 6,
   "metadata": {},
   "outputs": [
    {
     "ename": "ModuleNotFoundError",
     "evalue": "No module named 'occlusion'",
     "output_type": "error",
     "traceback": [
      "\u001b[0;31m---------------------------------------------------------------------------\u001b[0m",
      "\u001b[0;31mModuleNotFoundError\u001b[0m                       Traceback (most recent call last)",
      "Input \u001b[0;32mIn [6]\u001b[0m, in \u001b[0;36m<module>\u001b[0;34m\u001b[0m\n\u001b[1;32m      7\u001b[0m sys\u001b[38;5;241m.\u001b[39mpath\u001b[38;5;241m.\u001b[39mappend(\u001b[38;5;124m'\u001b[39m\u001b[38;5;124m../occlusion\u001b[39m\u001b[38;5;124m'\u001b[39m)\n\u001b[1;32m      9\u001b[0m \u001b[38;5;66;03m# importing the methods\u001b[39;00m\n\u001b[1;32m     10\u001b[0m \u001b[38;5;66;03m# from parentdirectory.parent_module import parent_directory_method  \u001b[39;00m\n\u001b[1;32m     11\u001b[0m \u001b[38;5;66;03m# parent_directory_method()\u001b[39;00m\n\u001b[1;32m     12\u001b[0m \u001b[38;5;66;03m# from occlusion.scripts.occlusion_funcs import blobs\u001b[39;00m\n\u001b[1;32m     13\u001b[0m \u001b[38;5;66;03m# sys.path.append(os.path.dirname(os.getcwd()))\u001b[39;00m\n\u001b[0;32m---> 14\u001b[0m \u001b[38;5;28;01mfrom\u001b[39;00m \u001b[38;5;21;01mocclusion\u001b[39;00m\u001b[38;5;21;01m.\u001b[39;00m\u001b[38;5;21;01mscripts\u001b[39;00m \u001b[38;5;28;01mimport\u001b[39;00m occlusion\n",
      "\u001b[0;31mModuleNotFoundError\u001b[0m: No module named 'occlusion'"
     ]
    }
   ],
   "source": [
    "# import the necessary functions\n",
    "import sys\n",
    "import os\n",
    "# appending the parent directory path\n",
    "# occlusion = os.path.abspath(os.path.join('..'))\n",
    "\n",
    "sys.path.append('../occlusion')\n",
    "\n",
    "# importing the methods\n",
    "# from parentdirectory.parent_module import parent_directory_method  \n",
    "# parent_directory_method()\n",
    "# from occlusion.scripts.occlusion_funcs import blobs\n",
    "# sys.path.append(os.path.dirname(os.getcwd()))\n",
    "from occlusion.scripts import occlusion\n",
    "\n",
    "# from scripts.occlusion_funcs import partial_viewing\n",
    "# from scripts.occlusion_funcs import deletion"
   ]
  },
  {
   "cell_type": "code",
   "execution_count": 4,
   "metadata": {},
   "outputs": [],
   "source": [
    "sys.path.append('../occlusion')"
   ]
  },
  {
   "cell_type": "code",
   "execution_count": 5,
   "metadata": {},
   "outputs": [
    {
     "data": {
      "text/plain": [
       "'/Users/tim/Desktop/occlusion/demo'"
      ]
     },
     "execution_count": 5,
     "metadata": {},
     "output_type": "execute_result"
    }
   ],
   "source": [
    "import os\n",
    "os.getcwd()"
   ]
  },
  {
   "cell_type": "code",
   "execution_count": null,
   "metadata": {},
   "outputs": [],
   "source": [
    "# name the input and output directories\n",
    "input_dir = './input_images'\n",
    "output_dir = './outputs'\n",
    "\n",
    "# If you want to apply only one manipulation type\n",
    "blobs(input_dir, easy=10, hard=50, many_small=True)\n",
    "deletion(input_dir, easy=40, hard=70, few_large=True, col=255)\n",
    "partial_viewing(input_dir, easy=20, hard=50, many_small=False, few_large=True, seed=10)\n",
    "\n",
    "# We can also use the more general occlude function that is called in occlude_images_folder.py\n",
    "from scripts.occlusion_funcs import occlude\n",
    "\n",
    "occlude(\n",
    "    input_dir,\n",
    "    easy=20,\n",
    "    hard=60,\n",
    "    apply_blobs=True,\n",
    "    apply_deletion=True,\n",
    "    apply_partialviewing=True,\n",
    "    many_small=True,\n",
    "    few_large=True,\n",
    "    col=0,\n",
    "    out_root=output_dir,\n",
    "    seed=42,\n",
    ")\n"
   ]
  }
 ],
 "metadata": {
  "kernelspec": {
   "display_name": "Python 3 (ipykernel)",
   "language": "python",
   "name": "python3"
  },
  "language_info": {
   "codemirror_mode": {
    "name": "ipython",
    "version": 3
   },
   "file_extension": ".py",
   "mimetype": "text/x-python",
   "name": "python",
   "nbconvert_exporter": "python",
   "pygments_lexer": "ipython3",
   "version": "3.10.5"
  }
 },
 "nbformat": 4,
 "nbformat_minor": 2
}
